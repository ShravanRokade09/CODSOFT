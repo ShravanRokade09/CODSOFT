{
  "cells": [
    {
      "cell_type": "markdown",
      "metadata": {
        "id": "view-in-github",
        "colab_type": "text"
      },
      "source": [
        "<a href=\"https://colab.research.google.com/github/ShravanRokade09/CODSOFT/blob/main/RULE_BASED_CHATBOT_USING_IF_ELSE_AND_PATTERN_MATCHING!.ipynb\" target=\"_parent\"><img src=\"https://colab.research.google.com/assets/colab-badge.svg\" alt=\"Open In Colab\"/></a>"
      ]
    },
    {
      "cell_type": "code",
      "execution_count": 5,
      "metadata": {
        "colab": {
          "base_uri": "https://localhost:8080/"
        },
        "id": "oyEeCaevvImz",
        "outputId": "625686fe-ce59-41c6-df6a-f4262595964c"
      },
      "outputs": [
        {
          "output_type": "stream",
          "name": "stdout",
          "text": [
            "Chatbot: Hello! Type 'bye' to exit.\n",
            "You: hi\n",
            "Chatbot: Hello! How can I help you today?\n",
            "You: your name\n",
            "Chatbot: I am a simple rule-based chatbot.\n",
            "You: how are you\n",
            "Chatbot: I'm just a bot, but I'm doing great! How about you?\n",
            "You: who created you\n",
            "Chatbot: I was created by a programmer using Python!\n",
            "You: tell me a joke\n",
            "Chatbot: Why don’t skeletons fight each other? Because they don’t have the guts!\n",
            "You: time\n",
            "Chatbot: I don't have a clock, but you can check your system time!\n",
            "You: weather\n",
            "Chatbot: I can't fetch live weather updates, but you can check a weather website!\n",
            "You: help\n",
            "Chatbot: I can assist you with basic queries. What do you need help with?\n",
            "You: news\n",
            "Chatbot: I don't have live updates, but you can check a news website!\n",
            "You: bye\n",
            "Chatbot: Goodbye! Have a great day!\n"
          ]
        }
      ],
      "source": [
        "import re\n",
        "\n",
        "# RULE-BASED CHATBOT USING IF-ELSE AND PATTERN MATCHING!!\n",
        "\n",
        "def Chatbot_response(user_input):\n",
        "    user_input = user_input.lower()     # Convert user input to lowercase to make it case insensitive\n",
        "\n",
        "    # HANDLING SIMPLE RESPONSE USING IF-ELSE CONDITIONS\n",
        "\n",
        "    if \"hi\" in user_input or \"heyy\" in user_input:\n",
        "        return \"Hello! How can I help you today?\"\n",
        "    elif \"your name\" in user_input or \"what is your name?\" in user_input:\n",
        "        return \"I am a simple rule-based chatbot.\"\n",
        "    elif \"how are you\" in user_input:\n",
        "        return \"I'm just a bot, but I'm doing great! How about you?\"\n",
        "    elif \"who created you\" in user_input or \"who made you\" in user_input:\n",
        "        return \"I was created by a programmer using Python!\"\n",
        "    elif \"what can you do\" in user_input:\n",
        "        return \"I can answer basic questions, provide support, and chat with you!\"\n",
        "    elif \"tell me a joke\" in user_input:\n",
        "        return \"Why don’t skeletons fight each other? Because they don’t have the guts!\"\n",
        "    elif \"bye\" in user_input:\n",
        "        return \"Goodbye! Have a great day!\"\n",
        "\n",
        "\n",
        "    #  USING PATTERN MATCHING FOR RESPONSES\n",
        "\n",
        "    patterns = {\n",
        "        r\"\\b(help|support)\\b\": \"I can assist you with basic queries. What do you need help with?\",\n",
        "        r\"\\b(time|date)\\b\": \"I don't have a clock, but you can check your system time!\",\n",
        "        r\"\\b(weather|temperature)\\b\": \"I can't fetch live weather updates, but you can check a weather website!\",\n",
        "        r\"\\b(news|update)\\b\": \"I don't have live updates, but you can check a news website!\",\n",
        "    }\n",
        "\n",
        "    # Checking if the input matches any pattern using regular expressions\n",
        "    # re.search() IS USED TO FIND IF A WORD EXITS IN THE USER INPUT\n",
        "\n",
        "    for pattern, response in patterns.items():\n",
        "        if re.search(pattern, user_input):\n",
        "            return response\n",
        "\n",
        "    # DEFAULT RESPONSES IF NO RULE MATCHES\n",
        "    return \"I'm sorry, I don't understand that. Can you rephrase?\"\n",
        "\n",
        "# RUNNING THE CHATBOT IN A LOOP TO KEEP THE CONVERSATION GOING\n",
        "print(\"Chatbot: Hello! Type 'bye' to exit.\")\n",
        "while True:\n",
        "    # TAKING INPUT FROM THE USER\n",
        "    user_message = input(\"You: \")\n",
        "\n",
        "    # CHECKING IF USER WANTS TO EXIT\n",
        "    if user_message.lower() == \"bye\":\n",
        "        print(\"Chatbot: Goodbye! Have a great day!\")  # EXIT MESSAGE\n",
        "        break  # STOP THE LOOP\n",
        "\n",
        "    # GETTING THE RESPONSE FROM CHATBOT FUNCTION\n",
        "    response = Chatbot_response(user_message)\n",
        "\n",
        "    # DISPLAYING CHATBOT RESPONSES\n",
        "    print(\"Chatbot:\", response)\n"
      ]
    },
    {
      "cell_type": "markdown",
      "metadata": {
        "id": "eSqwtZek3FtS"
      },
      "source": []
    }
  ],
  "metadata": {
    "colab": {
      "provenance": [],
      "include_colab_link": true
    },
    "kernelspec": {
      "display_name": "Python 3",
      "name": "python3"
    },
    "language_info": {
      "name": "python"
    }
  },
  "nbformat": 4,
  "nbformat_minor": 0
}